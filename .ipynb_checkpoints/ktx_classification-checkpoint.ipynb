{
 "cells": [
  {
   "cell_type": "code",
   "execution_count": 1,
   "id": "e81df210",
   "metadata": {},
   "outputs": [],
   "source": [
    "import numpy as np\n",
    "import pandas as pd\n",
    "import matplotlib.pyplot as plt\n",
    "import tensorflow as tf\n",
    "import os\n",
    "import random\n",
    "os.chdir('C:/Users/LOTLOUISCHO/Desktop/02MyProjects/ktx_project')\n",
    "from tensorflow.keras.preprocessing.image import load_img"
   ]
  },
  {
   "cell_type": "code",
   "execution_count": 2,
   "id": "16535852",
   "metadata": {},
   "outputs": [],
   "source": [
    "#0 means KTX-1\n",
    "#1 means KTX-Sancheon\n",
    "#2 means KTX-EUM\n",
    "#3 means SRT\n",
    "input_path = []\n",
    "label = []\n",
    "\n",
    "for classes in os.listdir('trains'):\n",
    "    for path in os.listdir('trains/'+classes):\n",
    "        if classes == 'ktx_1':\n",
    "            label.append(0)\n",
    "        elif classes == 'ktx_sancheon':\n",
    "            label.append(1)\n",
    "        elif classes == 'ktx_eum':\n",
    "            label.append(2)\n",
    "        elif classes == 'srt':\n",
    "            label.append(3)\n",
    "        input_path.append(os.path.join('trains',classes,path))"
   ]
  },
  {
   "cell_type": "code",
   "execution_count": 15,
   "id": "17ba0242",
   "metadata": {},
   "outputs": [
    {
     "data": {
      "text/html": [
       "<div>\n",
       "<style scoped>\n",
       "    .dataframe tbody tr th:only-of-type {\n",
       "        vertical-align: middle;\n",
       "    }\n",
       "\n",
       "    .dataframe tbody tr th {\n",
       "        vertical-align: top;\n",
       "    }\n",
       "\n",
       "    .dataframe thead th {\n",
       "        text-align: right;\n",
       "    }\n",
       "</style>\n",
       "<table border=\"1\" class=\"dataframe\">\n",
       "  <thead>\n",
       "    <tr style=\"text-align: right;\">\n",
       "      <th></th>\n",
       "      <th>images</th>\n",
       "      <th>label</th>\n",
       "    </tr>\n",
       "  </thead>\n",
       "  <tbody>\n",
       "    <tr>\n",
       "      <th>0</th>\n",
       "      <td>trains\\ktx_sancheon\\ktx_san_4.png</td>\n",
       "      <td>1</td>\n",
       "    </tr>\n",
       "    <tr>\n",
       "      <th>1</th>\n",
       "      <td>trains\\srt\\srt_0.png</td>\n",
       "      <td>3</td>\n",
       "    </tr>\n",
       "    <tr>\n",
       "      <th>2</th>\n",
       "      <td>trains\\ktx_1\\ktx_one_4.png</td>\n",
       "      <td>0</td>\n",
       "    </tr>\n",
       "    <tr>\n",
       "      <th>3</th>\n",
       "      <td>trains\\ktx_eum\\ktx_eum_9.png</td>\n",
       "      <td>2</td>\n",
       "    </tr>\n",
       "    <tr>\n",
       "      <th>4</th>\n",
       "      <td>trains\\srt\\srt_2.png</td>\n",
       "      <td>3</td>\n",
       "    </tr>\n",
       "  </tbody>\n",
       "</table>\n",
       "</div>"
      ],
      "text/plain": [
       "                              images label\n",
       "0  trains\\ktx_sancheon\\ktx_san_4.png     1\n",
       "1               trains\\srt\\srt_0.png     3\n",
       "2         trains\\ktx_1\\ktx_one_4.png     0\n",
       "3       trains\\ktx_eum\\ktx_eum_9.png     2\n",
       "4               trains\\srt\\srt_2.png     3"
      ]
     },
     "execution_count": 15,
     "metadata": {},
     "output_type": "execute_result"
    }
   ],
   "source": [
    "df = pd.DataFrame()\n",
    "df['images'] = input_path\n",
    "df['label'] = label\n",
    "df = df.sample(frac=1).reset_index(drop=True)\n",
    "df['label'] = df['label'].astype('str')\n",
    "df.head()"
   ]
  },
  {
   "cell_type": "markdown",
   "id": "70b92f3c",
   "metadata": {},
   "source": [
    "https://www.youtube.com/watch?v=ENXr1foShrA"
   ]
  },
  {
   "cell_type": "markdown",
   "id": "e7f17602",
   "metadata": {},
   "source": [
    "## Exploratory Data Analysis"
   ]
  },
  {
   "cell_type": "code",
   "execution_count": 16,
   "id": "cdfacd69",
   "metadata": {},
   "outputs": [
    {
     "data": {
      "text/plain": [
       "<Figure size 1800x2520 with 0 Axes>"
      ]
     },
     "metadata": {},
     "output_type": "display_data"
    }
   ],
   "source": [
    "#display grid of images\n",
    "plt.figure(figsize=(25,35))\n",
    "temp = df[df['label']==0]['images']\n",
    "start = random.randint(0,len(temp))\n",
    "files = temp[start:start+25]\n",
    "\n",
    "for index,file in enumerate(files):\n",
    "    plt.subplot(5,5,index+1)\n",
    "    img = load_img(file)\n",
    "    img = np.array(img)\n",
    "    plt.imshow(img)\n",
    "    plt.title('KTX-1')\n",
    "    plt.axis('off')"
   ]
  },
  {
   "cell_type": "code",
   "execution_count": 17,
   "id": "b1559517",
   "metadata": {},
   "outputs": [
    {
     "data": {
      "text/plain": [
       "<Figure size 1800x2520 with 0 Axes>"
      ]
     },
     "metadata": {},
     "output_type": "display_data"
    }
   ],
   "source": [
    "#display grid of images\n",
    "plt.figure(figsize=(25,35))\n",
    "temp = df[df['label']==1]['images']\n",
    "start = random.randint(0,len(temp))\n",
    "files = temp[start:start+25]\n",
    "\n",
    "for index,file in enumerate(files):\n",
    "    plt.subplot(5,5,index+1)\n",
    "    img = load_img(file)\n",
    "    img = np.array(img)\n",
    "    plt.imshow(img)\n",
    "    plt.title('KTX-Sancheon')\n",
    "    plt.axis('off')"
   ]
  },
  {
   "cell_type": "code",
   "execution_count": 18,
   "id": "80b2056e",
   "metadata": {},
   "outputs": [
    {
     "data": {
      "text/plain": [
       "<Figure size 1800x2520 with 0 Axes>"
      ]
     },
     "metadata": {},
     "output_type": "display_data"
    }
   ],
   "source": [
    "#display grid of images\n",
    "plt.figure(figsize=(25,35))\n",
    "temp = df[df['label']==2]['images']\n",
    "start = random.randint(0,len(temp))\n",
    "files = temp[start:start+25]\n",
    "\n",
    "for index,file in enumerate(files):\n",
    "    plt.subplot(5,5,index+1)\n",
    "    img = load_img(file)\n",
    "    img = np.array(img)\n",
    "    plt.imshow(img)\n",
    "    plt.title('KTX-EUM')\n",
    "    plt.axis('off')"
   ]
  },
  {
   "cell_type": "code",
   "execution_count": 19,
   "id": "68459b81",
   "metadata": {},
   "outputs": [
    {
     "data": {
      "text/plain": [
       "<Figure size 1800x2520 with 0 Axes>"
      ]
     },
     "metadata": {},
     "output_type": "display_data"
    }
   ],
   "source": [
    "#display grid of images\n",
    "plt.figure(figsize=(25,35))\n",
    "temp = df[df['label']==3]['images']\n",
    "start = random.randint(0,len(temp))\n",
    "files = temp[start:start+25]\n",
    "\n",
    "for index,file in enumerate(files):\n",
    "    plt.subplot(5,5,index+1)\n",
    "    img = load_img(file)\n",
    "    img = np.array(img)\n",
    "    plt.imshow(img)\n",
    "    plt.title('SRT')\n",
    "    plt.axis('off')"
   ]
  },
  {
   "cell_type": "code",
   "execution_count": 20,
   "id": "3650f8b9",
   "metadata": {},
   "outputs": [
    {
     "name": "stderr",
     "output_type": "stream",
     "text": [
      "C:\\Users\\LOTLOUISCHO\\anaconda3\\lib\\site-packages\\seaborn\\_decorators.py:36: FutureWarning: Pass the following variable as a keyword arg: x. From version 0.12, the only valid positional argument will be `data`, and passing other arguments without an explicit keyword will result in an error or misinterpretation.\n",
      "  warnings.warn(\n"
     ]
    },
    {
     "data": {
      "text/plain": [
       "<AxesSubplot:xlabel='label', ylabel='count'>"
      ]
     },
     "execution_count": 20,
     "metadata": {},
     "output_type": "execute_result"
    },
    {
     "data": {
      "image/png": "[encoded data removed]",
      "text/plain": [
       "<Figure size 432x288 with 1 Axes>"
      ]
     },
     "metadata": {
      "needs_background": "light"
     },
     "output_type": "display_data"
    }
   ],
   "source": [
    "import seaborn as sns\n",
    "sns.countplot(df['label'])"
   ]
  },
  {
   "cell_type": "markdown",
   "id": "daf94575",
   "metadata": {},
   "source": [
    "## Create Data Generator for the Images"
   ]
  },
  {
   "cell_type": "code",
   "execution_count": 22,
   "id": "df294318",
   "metadata": {},
   "outputs": [
    {
     "name": "stdout",
     "output_type": "stream",
     "text": [
      "Found 40 validated image filenames belonging to 4 classes.\n"
     ]
    }
   ],
   "source": [
    "from tensorflow.keras.preprocessing.image import ImageDataGenerator\n",
    "train_generator = ImageDataGenerator(\n",
    "    rescale=1./255, #normalization\n",
    "    rotation_range=40, #augmentation of images to prevent overfitting\n",
    "    shear_range = 0.2, \n",
    "    zoom_range = 0.2,\n",
    "    horizontal_flip = True,\n",
    "    fill_mode = 'nearest'\n",
    ")\n",
    "\n",
    "#binary for 0 and 1 categorical for multiple\n",
    "train_iterator = train_generator.flow_from_dataframe(\n",
    "    df,\n",
    "    x_col='images',\n",
    "    y_col='label',\n",
    "    target_size=(128,128),\n",
    "    batch_size=512,\n",
    "    class_mode='categorical')"
   ]
  },
  {
   "cell_type": "code",
   "execution_count": 23,
   "id": "008cf2d4",
   "metadata": {},
   "outputs": [],
   "source": [
    "#continue from 32:43"
   ]
  },
  {
   "cell_type": "code",
   "execution_count": null,
   "id": "8f018860",
   "metadata": {},
   "outputs": [],
   "source": []
  }
 ],
 "metadata": {
  "kernelspec": {
   "display_name": "Python 3 (ipykernel)",
   "language": "python",
   "name": "python3"
  },
  "language_info": {
   "codemirror_mode": {
    "name": "ipython",
    "version": 3
   },
   "file_extension": ".py",
   "mimetype": "text/x-python",
   "name": "python",
   "nbconvert_exporter": "python",
   "pygments_lexer": "ipython3",
   "version": "3.9.12"
  }
 },
 "nbformat": 4,
 "nbformat_minor": 5
}
